{
 "cells": [
  {
   "cell_type": "code",
   "execution_count": null,
   "id": "c36e298c",
   "metadata": {},
   "outputs": [],
   "source": [
    "import pandas as pd\n",
    "import numpy as np\n",
    "import os\n",
    "\n",
    "# Paths\n",
    "PROCESSED_PATH = \"../data/processed/tabular/\"\n",
    "OUTPUT_FILE = os.path.join(PROCESSED_PATH, \"supply_chain_features.csv\")\n",
    "\n",
    "\n",
    "# Load integrated dataset\n",
    "df = pd.read_csv(os.path.join(PROCESSED_PATH, \"integrated_supply_chain.csv\"))\n",
    "print(\"✅ Loaded integrated dataset:\", df.shape)\n",
    "df.head()"
   ]
  }
 ],
 "metadata": {
  "language_info": {
   "name": "python"
  }
 },
 "nbformat": 4,
 "nbformat_minor": 5
}
