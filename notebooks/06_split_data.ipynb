{
 "cells": [
  {
   "cell_type": "code",
   "execution_count": 1,
   "id": "ace28e24",
   "metadata": {},
   "outputs": [],
   "source": [
    "import pandas as pd\n",
    "import os"
   ]
  },
  {
   "cell_type": "code",
   "execution_count": 4,
   "id": "fc95bc5a",
   "metadata": {},
   "outputs": [
    {
     "name": "stdout",
     "output_type": "stream",
     "text": [
      "✅ Loaded enriched dataset: (35065, 16)\n"
     ]
    },
    {
     "name": "stderr",
     "output_type": "stream",
     "text": [
      "C:\\Users\\AADITYA\\AppData\\Local\\Temp\\ipykernel_28184\\3469887656.py:9: DtypeWarning: Columns (0,1,2,10) have mixed types. Specify dtype option on import or set low_memory=False.\n",
      "  df = pd.read_csv(INPUT_FILE, parse_dates=[\"dispatch_date\", \"delivery_date\"])\n"
     ]
    }
   ],
   "source": [
    "# Paths\n",
    "PROCESSED_PATH = \"../data/processed/tabular/\"\n",
    "INPUT_FILE = os.path.join(PROCESSED_PATH, \"supply_chain_features.csv\")\n",
    "OUTPUT_TRAIN = os.path.join(PROCESSED_PATH, \"train.csv\")\n",
    "OUTPUT_VAL = os.path.join(PROCESSED_PATH, \"val.csv\")\n",
    "OUTPUT_TEST = os.path.join(PROCESSED_PATH, \"test.csv\")\n",
    "\n",
    "# Load dataset\n",
    "df = pd.read_csv(INPUT_FILE, parse_dates=[\"dispatch_date\", \"delivery_date\"])\n",
    "print(\"✅ Loaded enriched dataset:\", df.shape)\n"
   ]
  },
  {
   "cell_type": "code",
   "execution_count": 5,
   "id": "79ead121",
   "metadata": {},
   "outputs": [
    {
     "name": "stdout",
     "output_type": "stream",
     "text": [
      "Train: (24545, 16), Val: (5260, 16), Test: (5260, 16)\n"
     ]
    }
   ],
   "source": [
    "n = len(df)\n",
    "train_end = int(0.7 * n)\n",
    "val_end = int(0.85 * n)\n",
    "\n",
    "df_train = df.iloc[:train_end]\n",
    "df_val = df.iloc[train_end:val_end]\n",
    "df_test = df.iloc[val_end:]\n",
    "\n",
    "print(f\"Train: {df_train.shape}, Val: {df_val.shape}, Test: {df_test.shape}\")"
   ]
  },
  {
   "cell_type": "code",
   "execution_count": 6,
   "id": "97f2c38a",
   "metadata": {},
   "outputs": [
    {
     "name": "stdout",
     "output_type": "stream",
     "text": [
      "💾 Saved train/val/test splits:\n",
      "- ../data/processed/tabular/train.csv\n",
      "- ../data/processed/tabular/val.csv\n",
      "- ../data/processed/tabular/test.csv\n"
     ]
    }
   ],
   "source": [
    "df_train.to_csv(OUTPUT_TRAIN, index=False)\n",
    "df_val.to_csv(OUTPUT_VAL, index=False)\n",
    "df_test.to_csv(OUTPUT_TEST, index=False)\n",
    "\n",
    "print(\"💾 Saved train/val/test splits:\")\n",
    "print(f\"- {OUTPUT_TRAIN}\")\n",
    "print(f\"- {OUTPUT_VAL}\")\n",
    "print(f\"- {OUTPUT_TEST}\")\n"
   ]
  },
  {
   "cell_type": "code",
   "execution_count": null,
   "id": "ade53c26",
   "metadata": {},
   "outputs": [],
   "source": []
  }
 ],
 "metadata": {
  "kernelspec": {
   "display_name": "Python 3",
   "language": "python",
   "name": "python3"
  },
  "language_info": {
   "codemirror_mode": {
    "name": "ipython",
    "version": 3
   },
   "file_extension": ".py",
   "mimetype": "text/x-python",
   "name": "python",
   "nbconvert_exporter": "python",
   "pygments_lexer": "ipython3",
   "version": "3.12.5"
  }
 },
 "nbformat": 4,
 "nbformat_minor": 5
}
