{
 "cells": [
  {
   "cell_type": "code",
   "execution_count": 1,
   "id": "f400a538",
   "metadata": {},
   "outputs": [],
   "source": [
    "import pandas as pd\n",
    "import os"
   ]
  },
  {
   "cell_type": "code",
   "execution_count": 2,
   "id": "dbf329cf",
   "metadata": {},
   "outputs": [],
   "source": [
    "# Paths\n",
    "PROCESSED_PATH = \"../data/processed/tabular/\"\n",
    "OUTPUT_FILE = os.path.join(PROCESSED_PATH, \"integrated_supply_chain.csv\")\n",
    "\n",
    "# Load cleaned datasets\n",
    "df_res = pd.read_csv(os.path.join(PROCESSED_PATH, \"supply_chain_resilience_clean.csv\"))\n",
    "df_us = pd.read_csv(os.path.join(PROCESSED_PATH, \"us_supply_chain_risk_clean.csv\"))\n",
    "df_smart = pd.read_csv(os.path.join(PROCESSED_PATH, \"smart_logistics_clean.csv\"))\n",
    "df_dyn = pd.read_csv(os.path.join(PROCESSED_PATH, \"dynamic_logistics_clean.csv\"))"
   ]
  },
  {
   "cell_type": "markdown",
   "id": "9ff15b22",
   "metadata": {},
   "source": [
    "1. Standardize Schemas"
   ]
  },
  {
   "cell_type": "code",
   "execution_count": 3,
   "id": "a79c5572",
   "metadata": {},
   "outputs": [],
   "source": [
    "# Define unified schema columns\n",
    "schema_cols = [\n",
    "    \"shipment_id\", \"origin\", \"destination\",\n",
    "    \"dispatch_date\", \"delivery_date\", \"delay_days\",\n",
    "    \"disruption_type\", \"risk_score\", \"source\"\n",
    "]\n",
    "\n",
    "# --- Resilience ---\n",
    "df_res_std = pd.DataFrame({\n",
    "    \"shipment_id\": df_res.get(\"order_id\", df_res.index),\n",
    "    \"origin\": df_res.get(\"buyer_id\", \"Unknown\"),\n",
    "    \"destination\": df_res.get(\"supplier_id\", \"Unknown\"),\n",
    "    \"dispatch_date\": pd.to_datetime(df_res.get(\"dispatch_date\")),\n",
    "    \"delivery_date\": pd.to_datetime(df_res.get(\"delivery_date\")),\n",
    "    \"delay_days\": df_res.get(\"delay_days\"),\n",
    "    \"disruption_type\": df_res.get(\"disruption_type\", \"None\"),\n",
    "    \"risk_score\": df_res.get(\"supply_risk_flag\", 0),\n",
    "    \"source\": \"resilience\"\n",
    "})\n",
    "\n",
    "# --- US Supply Chain Risk ---\n",
    "df_us_std = pd.DataFrame({\n",
    "    \"shipment_id\": df_us.get(\"order_id\", df_us.index),\n",
    "    \"origin\": df_us.get(\"buyer_id\", \"Unknown\"),\n",
    "    \"destination\": df_us.get(\"supplier_id\", \"Unknown\"),\n",
    "    \"dispatch_date\": pd.to_datetime(df_us.get(\"dispatch_date\")),\n",
    "    \"delivery_date\": pd.to_datetime(df_us.get(\"delivery_date\")),\n",
    "    \"delay_days\": df_us.get(\"delay_days\"),\n",
    "    \"disruption_type\": df_us.get(\"disruption_type\", \"None\"),\n",
    "    \"risk_score\": df_us.get(\"supply_risk_flag\", 0),\n",
    "    \"source\": \"us_risk\"\n",
    "})\n",
    "\n",
    "# --- Smart Logistics ---\n",
    "df_smart_std = pd.DataFrame({\n",
    "    \"shipment_id\": df_smart.get(\"asset_id\", df_smart.index),\n",
    "    \"origin\": df_smart.get(\"latitude\"),\n",
    "    \"destination\": df_smart.get(\"longitude\"),\n",
    "    \"dispatch_date\": pd.to_datetime(df_smart.get(\"timestamp\")),\n",
    "    \"delivery_date\": pd.NaT,  # not available\n",
    "    \"delay_days\": df_smart.get(\"logistics_delay\"),\n",
    "    \"disruption_type\": df_smart.get(\"traffic_status\", \"None\"),\n",
    "    \"risk_score\": df_smart.get(\"demand_forecast\", 0),\n",
    "    \"source\": \"smart_logistics\"\n",
    "})\n",
    "\n",
    "# --- Dynamic Logistics ---\n",
    "df_dyn_std = pd.DataFrame({\n",
    "    \"shipment_id\": df_dyn.get(\"shipment_id\", df_dyn.index),\n",
    "    \"origin\": df_dyn.get(\"gps\"),\n",
    "    \"destination\": df_dyn.get(\"gps\"),\n",
    "    \"dispatch_date\": pd.to_datetime(df_dyn.get(\"timestamp\")),\n",
    "    \"delivery_date\": pd.NaT,\n",
    "    \"delay_days\": df_dyn.get(\"delivery_time_deviation\"),\n",
    "    \"disruption_type\": df_dyn.get(\"risk_classification\", \"None\"),\n",
    "    \"risk_score\": df_dyn.get(\"disruption_likelihood_score\", 0),\n",
    "    \"source\": \"dynamic_logistics\"\n",
    "})\n"
   ]
  },
  {
   "cell_type": "code",
   "execution_count": 4,
   "id": "d0a4da31",
   "metadata": {},
   "outputs": [
    {
     "name": "stdout",
     "output_type": "stream",
     "text": [
      "✅ Integrated dataset shape = (35065, 9)\n"
     ]
    },
    {
     "data": {
      "text/html": [
       "<div>\n",
       "<style scoped>\n",
       "    .dataframe tbody tr th:only-of-type {\n",
       "        vertical-align: middle;\n",
       "    }\n",
       "\n",
       "    .dataframe tbody tr th {\n",
       "        vertical-align: top;\n",
       "    }\n",
       "\n",
       "    .dataframe thead th {\n",
       "        text-align: right;\n",
       "    }\n",
       "</style>\n",
       "<table border=\"1\" class=\"dataframe\">\n",
       "  <thead>\n",
       "    <tr style=\"text-align: right;\">\n",
       "      <th></th>\n",
       "      <th>shipment_id</th>\n",
       "      <th>origin</th>\n",
       "      <th>destination</th>\n",
       "      <th>dispatch_date</th>\n",
       "      <th>delivery_date</th>\n",
       "      <th>delay_days</th>\n",
       "      <th>disruption_type</th>\n",
       "      <th>risk_score</th>\n",
       "      <th>source</th>\n",
       "    </tr>\n",
       "  </thead>\n",
       "  <tbody>\n",
       "    <tr>\n",
       "      <th>0</th>\n",
       "      <td>O1000</td>\n",
       "      <td>B33</td>\n",
       "      <td>S23</td>\n",
       "      <td>2023-10-27</td>\n",
       "      <td>2023-10-28</td>\n",
       "      <td>0.0</td>\n",
       "      <td>NaN</td>\n",
       "      <td>0.0</td>\n",
       "      <td>resilience</td>\n",
       "    </tr>\n",
       "    <tr>\n",
       "      <th>1</th>\n",
       "      <td>O1001</td>\n",
       "      <td>B1</td>\n",
       "      <td>S20</td>\n",
       "      <td>2023-07-08</td>\n",
       "      <td>2023-07-09</td>\n",
       "      <td>0.0</td>\n",
       "      <td>NaN</td>\n",
       "      <td>0.0</td>\n",
       "      <td>resilience</td>\n",
       "    </tr>\n",
       "    <tr>\n",
       "      <th>2</th>\n",
       "      <td>O1002</td>\n",
       "      <td>B2</td>\n",
       "      <td>S10</td>\n",
       "      <td>2023-12-29</td>\n",
       "      <td>2024-01-07</td>\n",
       "      <td>7.0</td>\n",
       "      <td>Shortage</td>\n",
       "      <td>1.0</td>\n",
       "      <td>resilience</td>\n",
       "    </tr>\n",
       "    <tr>\n",
       "      <th>3</th>\n",
       "      <td>O1003</td>\n",
       "      <td>B6</td>\n",
       "      <td>S10</td>\n",
       "      <td>2023-01-17</td>\n",
       "      <td>2023-01-20</td>\n",
       "      <td>0.0</td>\n",
       "      <td>NaN</td>\n",
       "      <td>0.0</td>\n",
       "      <td>resilience</td>\n",
       "    </tr>\n",
       "    <tr>\n",
       "      <th>4</th>\n",
       "      <td>O1004</td>\n",
       "      <td>B5</td>\n",
       "      <td>S4</td>\n",
       "      <td>2023-01-14</td>\n",
       "      <td>2023-01-16</td>\n",
       "      <td>0.0</td>\n",
       "      <td>NaN</td>\n",
       "      <td>0.0</td>\n",
       "      <td>resilience</td>\n",
       "    </tr>\n",
       "  </tbody>\n",
       "</table>\n",
       "</div>"
      ],
      "text/plain": [
       "  shipment_id origin destination dispatch_date delivery_date  delay_days  \\\n",
       "0       O1000    B33         S23    2023-10-27    2023-10-28         0.0   \n",
       "1       O1001     B1         S20    2023-07-08    2023-07-09         0.0   \n",
       "2       O1002     B2         S10    2023-12-29    2024-01-07         7.0   \n",
       "3       O1003     B6         S10    2023-01-17    2023-01-20         0.0   \n",
       "4       O1004     B5          S4    2023-01-14    2023-01-16         0.0   \n",
       "\n",
       "  disruption_type  risk_score      source  \n",
       "0             NaN         0.0  resilience  \n",
       "1             NaN         0.0  resilience  \n",
       "2        Shortage         1.0  resilience  \n",
       "3             NaN         0.0  resilience  \n",
       "4             NaN         0.0  resilience  "
      ]
     },
     "execution_count": 4,
     "metadata": {},
     "output_type": "execute_result"
    }
   ],
   "source": [
    "df_integrated = pd.concat([df_res_std, df_us_std, df_smart_std, df_dyn_std], ignore_index=True)\n",
    "\n",
    "print(f\"✅ Integrated dataset shape = {df_integrated.shape}\")\n",
    "df_integrated.head()\n"
   ]
  },
  {
   "cell_type": "code",
   "execution_count": 5,
   "id": "db88e6cb",
   "metadata": {},
   "outputs": [
    {
     "name": "stdout",
     "output_type": "stream",
     "text": [
      "💾 Saved unified dataset → ../data/processed/tabular/integrated_supply_chain.csv\n"
     ]
    }
   ],
   "source": [
    "df_integrated.to_csv(OUTPUT_FILE, index=False)\n",
    "print(f\"💾 Saved unified dataset → {OUTPUT_FILE}\")"
   ]
  },
  {
   "cell_type": "code",
   "execution_count": null,
   "id": "1b6edc65",
   "metadata": {},
   "outputs": [],
   "source": []
  }
 ],
 "metadata": {
  "kernelspec": {
   "display_name": "Python 3",
   "language": "python",
   "name": "python3"
  },
  "language_info": {
   "codemirror_mode": {
    "name": "ipython",
    "version": 3
   },
   "file_extension": ".py",
   "mimetype": "text/x-python",
   "name": "python",
   "nbconvert_exporter": "python",
   "pygments_lexer": "ipython3",
   "version": "3.12.5"
  }
 },
 "nbformat": 4,
 "nbformat_minor": 5
}
